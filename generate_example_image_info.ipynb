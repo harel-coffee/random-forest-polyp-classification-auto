{
 "cells": [
  {
   "cell_type": "code",
   "execution_count": null,
   "metadata": {},
   "outputs": [],
   "source": [
    "import nrrd\n",
    "import numpy as np\n",
    "import pandas as pd\n",
    "import os"
   ]
  },
  {
   "cell_type": "code",
   "execution_count": null,
   "metadata": {},
   "outputs": [],
   "source": [
    "example_patients = np.arange(25)\n",
    "print('Patient IDs: {}'.format(example_patients))"
   ]
  },
  {
   "cell_type": "code",
   "execution_count": null,
   "metadata": {},
   "outputs": [],
   "source": [
    "# Create patient folders\n",
    "patient_folders_train = []\n",
    "patient_folders_test  = []\n",
    "\n",
    "if not os.path.isdir('data/example_training_data'):\n",
    "    print('Create directory: {:s}'.format('data/example_training_data'))\n",
    "    os.mkdir('data/example_training_data')\n",
    "\n",
    "if not os.path.isdir('data/example_test_data'):\n",
    "    print('Create directory: {:s}'.format('data/example_test_data'))\n",
    "    os.mkdir('data/example_test_data')\n",
    "\n",
    "for patient in example_patients:\n",
    "    folder_train = 'data/example_training_data/pat_{:s}'.format(str(patient).zfill(2))\n",
    "    folder_test  = 'data/example_test_data/pat_{:s}'.format(str(patient).zfill(2))\n",
    "    patient_folders_train.append(folder_train)\n",
    "    patient_folders_test.append(folder_test)\n",
    "    \n",
    "    if not os.path.isdir(folder_train):\n",
    "        print('Create directory: {:s}'.format(folder_train))\n",
    "        os.mkdir(folder_train)\n",
    "        \n",
    "    if not os.path.isdir(folder_test):\n",
    "        print('Create directory: {:s}'.format(folder_test))\n",
    "        os.mkdir(folder_test)\n",
    "        \n",
    "print('Patient folders train: {}'.format(patient_folders_train))\n",
    "print('Patient folders test: {}'.format(patient_folders_test))"
   ]
  },
  {
   "cell_type": "code",
   "execution_count": null,
   "metadata": {},
   "outputs": [],
   "source": [
    "image_files_train = []\n",
    "image_files_test  = []\n",
    "mask_files_train  = []\n",
    "mask_files_test   = []\n",
    "\n",
    "for patient, folder_train, folder_test in zip(example_patients, patient_folders_train, patient_folders_test):\n",
    "    \n",
    "    # Random 'CT like' images\n",
    "    image_train = np.random.random((50,50,50))\n",
    "    image_train = np.multiply(image_train,1024+3071)\n",
    "    image_train = np.subtract(image_train, 1024)\n",
    "    \n",
    "    image_test  = np.random.random((50,50,50))\n",
    "    image_test  = np.multiply(image_test,1024+3071)\n",
    "    image_test  = np.subtract(image_test, 1024)\n",
    "    \n",
    "    # Static 'manual segmentation mask' like squared block segmentations around the center\n",
    "    mask_train  = np.zeros_like(image_train)\n",
    "    mask_train[25:34,25:34,25:34]=1.0\n",
    "    \n",
    "    mask_test  = np.zeros_like(image_test)\n",
    "    mask_test[25:34,25:34,25:34]=1.0\n",
    "    \n",
    "    # Save images and masks\n",
    "    image_file_train = '{:s}/patient_{:d}_image.nrrd'.format(folder_train, patient)\n",
    "    mask_file_train  = '{:s}/patient_{:d}_mask.nrrd'.format(folder_train, patient)\n",
    "    image_file_test  = '{:s}/patient_{:d}_image.nrrd'.format(folder_test, patient)\n",
    "    mask_file_test   = '{:s}/patient_{:d}_mask.nrrd'.format(folder_test, patient)\n",
    "    \n",
    "    nrrd.write(image_file_train, image_train)\n",
    "    nrrd.write(mask_file_train, mask_train)\n",
    "    nrrd.write(image_file_test, image_test)\n",
    "    nrrd.write(mask_file_test, mask_test)\n",
    "    \n",
    "    image_files_train.append(image_file_train[3:])\n",
    "    mask_files_train.append(mask_file_train[3:])\n",
    "    image_files_test.append(image_file_test[3:])\n",
    "    mask_files_test.append(mask_file_test[3:])"
   ]
  },
  {
   "cell_type": "code",
   "execution_count": null,
   "metadata": {},
   "outputs": [],
   "source": [
    "image_info_train    = np.array([image_files_train, mask_files_train]).swapaxes(0,1)\n",
    "df_image_info_train = pd.DataFrame(data=image_info_train, columns=['image', 'mask'])\n",
    "df_image_info_train.to_csv('example_image_info_train.csv', index=False)\n",
    "df_image_info_train"
   ]
  },
  {
   "cell_type": "code",
   "execution_count": null,
   "metadata": {},
   "outputs": [],
   "source": [
    "image_info_test    = np.array([image_files_test, mask_files_test]).swapaxes(0,1)\n",
    "df_image_info_test = pd.DataFrame(data=image_info_test, columns=['image', 'mask'])\n",
    "df_image_info_test.to_csv('example_image_info_test.csv', index=False)\n",
    "df_image_info_test"
   ]
  }
 ],
 "metadata": {
  "kernelspec": {
   "display_name": "Python 3 (ipykernel)",
   "language": "python",
   "name": "python3"
  },
  "language_info": {
   "codemirror_mode": {
    "name": "ipython",
    "version": 3
   },
   "file_extension": ".py",
   "mimetype": "text/x-python",
   "name": "python",
   "nbconvert_exporter": "python",
   "pygments_lexer": "ipython3",
   "version": "3.8.13"
  }
 },
 "nbformat": 4,
 "nbformat_minor": 4
}
